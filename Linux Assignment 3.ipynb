{
 "cells": [
  {
   "cell_type": "markdown",
   "id": "2da26fda",
   "metadata": {},
   "source": [
    "# 1.What are inode and process id?"
   ]
  },
  {
   "cell_type": "markdown",
   "id": "54521d33",
   "metadata": {},
   "source": [
    "inode is the unique name given by the operating system to each file. Similarly, process id is the unique id given to each process."
   ]
  },
  {
   "cell_type": "markdown",
   "id": "d6de94d9",
   "metadata": {},
   "source": [
    "# 2.Which are the Linux Directory Commands?"
   ]
  },
  {
   "cell_type": "markdown",
   "id": "602e456c",
   "metadata": {},
   "source": [
    "The Linux command is a utility of the Linux operating system. All basic and advanced tasks can be done by executing commands. The commands are executed on the Linux terminal. The terminal is a command-line interface to interact with the system, which is similar to the command prompt in the Windows OS. Commands in Linux are case-sensitive.\n",
    "\n",
    "pwd\n",
    "\n",
    "mkdir\n",
    "\n",
    "rmdir\n",
    "\n",
    "ls\n",
    "\n",
    "cd\n",
    "\n",
    "touch\n",
    "\n",
    "cat\n",
    "\n",
    "rm\n",
    "\n",
    "cp\n",
    "\n",
    "mv\n",
    "\n",
    "rename\n",
    "\n",
    "head\n",
    "\n",
    "tail\n",
    "\n",
    "more\n",
    "\n",
    "less etc..\n",
    "\n"
   ]
  },
  {
   "cell_type": "markdown",
   "id": "61392ceb",
   "metadata": {},
   "source": [
    "# 3.What is Virtual Desktop?"
   ]
  },
  {
   "cell_type": "markdown",
   "id": "65a879ed",
   "metadata": {},
   "source": [
    "Virtual desktops are preconfigured images of operating systems and applications in which the desktop environment is separated from the physical device used to access it. Users can access their virtual desktops remotely over a network. Any endpoint device, such as a laptop, smartphone or tablet, can be used to access a virtual desktop. The virtual desktop provider installs client software on the endpoint device, and the user then interacts with that software on the device."
   ]
  },
  {
   "cell_type": "markdown",
   "id": "e2d38559",
   "metadata": {},
   "source": [
    "# 4.Which are the different modes of vi editor?"
   ]
  },
  {
   "cell_type": "markdown",
   "id": "977265b0",
   "metadata": {},
   "source": [
    "The vi editor has two modes: Command and Insert. When you first open a file with vi, you are in Command mode. Command mode means that you can use keyboard keys to navigate, delete, copy, paste, and do a number of other tasks—except entering text. To enter Insert mode, press i. In Insert mode, you can enter text, use the Enter key to go to a new line, use the arrow keys to navigate text, and use vi as a free-form text editor. To return to Command mode, press the Esc key once.\n",
    "\n",
    "\n",
    "To save a file, you must first be in Command mode. Press Esc to enter Command mode, and then type :wq to write and quit the file. The other, quicker option is to use the keyboard shortcut ZZ to write and quit. To the non-vi initiated, write means save, and quit means exit vi. If you’ve made mistakes along the way in your editing and want to back out (abandon) all non-saved changes, enter Command mode by pressing Esc and type :q! This command quits without saving any changes and exits vi."
   ]
  },
  {
   "cell_type": "markdown",
   "id": "c0e4e33b",
   "metadata": {},
   "source": [
    "# 5.What are daemons?"
   ]
  },
  {
   "cell_type": "markdown",
   "id": "380120b4",
   "metadata": {},
   "source": [
    "A daemon (usually pronounced as: day-mon, but sometimes pronounced as to rhyme with diamond) is a program with a unique purpose. They are utility programs that run silently in the background to monitor and take care of certain subsystems to ensure that the operating system runs properly. A printer daemon monitors and takes care of printing services. A network daemon monitors and maintains network communications, and so on."
   ]
  },
  {
   "cell_type": "markdown",
   "id": "d66ec383",
   "metadata": {},
   "source": [
    "# 6.What are the process states in Linux?"
   ]
  },
  {
   "cell_type": "markdown",
   "id": "946dae3b",
   "metadata": {},
   "source": [
    "In Linux, a process is an instance of executing a program or command. While these processes exist, they’ll be in one of the five possible states:\n",
    "\n",
    "Running or Runnable (R)\n",
    "\n",
    "Uninterruptible Sleep (D)\n",
    "\n",
    "Interruptable Sleep (S)\n",
    "\n",
    "Stopped (T)\n",
    "\n",
    "Zombie (Z)"
   ]
  },
  {
   "cell_type": "markdown",
   "id": "bad724b0",
   "metadata": {},
   "source": [
    "# 7.Explain grep command."
   ]
  },
  {
   "cell_type": "markdown",
   "id": "fa2bb325",
   "metadata": {},
   "source": [
    "Grep is an acronym that stands for Global Regular Expression Print.\n",
    "\n",
    "Grep is a Linux / Unix command-line tool used to search for a string of characters in a specified file. The text search pattern is called a regular expression. When it finds a match, it prints the line with the result. The grep command is handy when searching through large log files."
   ]
  },
  {
   "cell_type": "markdown",
   "id": "ab904727",
   "metadata": {},
   "source": [
    "# 8.Explain Process Management System Calls in Linux"
   ]
  },
  {
   "cell_type": "markdown",
   "id": "3ff9e91f",
   "metadata": {},
   "source": [
    "The different system calls are as follows −\n",
    "\n",
    "System calls for Process management\n",
    "\n",
    "System calls for File management\n",
    "\n",
    "System calls for Directory management\n",
    "\n",
    "System calls for Process management\n",
    "A system is used to create a new process or a duplicate process called a fork.\n",
    "\n",
    "The duplicate process consists of all data in the file description and registers common. The original process is also called the parent process and the duplicate is called the child process.\n",
    "\n",
    "The fork call returns a value, which is zero in the child and equal to the child’s PID (Process Identifier) in the parent. The system calls like exit would request the services for terminating a process.\n",
    "\n",
    "Loading of programs or changing of the original image with duplicate needs execution of exec. Pid would help to distinguish between child and parent processes.\n",
    "\n",
    "Example\n",
    "Process management system calls in Linux.\n",
    "\n",
    "fork − For creating a duplicate process from the parent process.\n",
    "\n",
    "wait − Processes are supposed to wait for other processes to complete their work.\n",
    "\n",
    "exec − Loads the selected program into the memory.\n",
    "\n",
    "exit − Terminates the process.\n",
    "\n",
    "fork() − A parent process always uses a fork for creating a new child process. The child process is generally called a copy of the parent. After execution of fork, both parent and child execute the same program in separate processes.\n",
    "\n",
    "exec() − This function is used to replace the program executed by a process. The child sometimes may use exec after a fork for replacing the process memory space with a new program executable making the child execute a different program than the parent.\n",
    "\n",
    "exit() − This function is used to terminate the process.\n",
    "\n",
    "wait() − The parent uses a wait function to suspend execution till a child terminates. Using wait the parent can obtain the exit status of a terminated child."
   ]
  },
  {
   "cell_type": "markdown",
   "id": "ec17f390",
   "metadata": {},
   "source": [
    "# 9.Explain the ‘ls’ command"
   ]
  },
  {
   "cell_type": "markdown",
   "id": "a0096793",
   "metadata": {},
   "source": [
    "The ls command is used to list files. \"ls\" on its own lists all files in the current directory except for hidden files. \"ls *.tex\" lists only those files ending in \".tex\". There are a large number of options; here are some of the most useful. Options can be combined (this is a general principle of Unix commands) - for example \"ls -la\" gives a long listing of all files.\n",
    "\n",
    "ls -a will list all files including hidden files (files with names beginning with a dot).\n",
    "\n",
    "ls -F gives a full listing, indicating what type files are by putting a slash after directories and a star after executable files (programs you can run).\n",
    "\n",
    "ls -l gives a long listing of all files. Here is an example section of the output of ls -l"
   ]
  },
  {
   "cell_type": "markdown",
   "id": "2a92f47e",
   "metadata": {},
   "source": [
    "# 10.Explain the redirection operator"
   ]
  },
  {
   "cell_type": "markdown",
   "id": "0cfe511f",
   "metadata": {},
   "source": [
    "Redirection Operator: <\n",
    "\n",
    "The symbol < is used for input redirection. Files, for example, can be used as input. However, in this case, the input redirection is a read-only redirection.\n",
    "\n",
    "cat < file.txt\n",
    "\n",
    "Redirection Operator: <<\n",
    "The redirection operator << is also known as the here-document. The here-document allows one to put a line of input into a command in many.\n",
    "\n",
    "For example: cat << EOF\n",
    "\n",
    "Redirection Operator: >\n",
    "This symbol, known as the file redirection operator, is typically used to redirect the contents of a command/file to another by overwriting it. Mind you; it overwrites it – in bold and italicized!\n",
    "\n",
    "echo “hello world’ > file.txt\n",
    "\n",
    "Redirection Operator: >>\n",
    "The symbol >> is used to append and not to replace! The file redirection operator > replaces or overwrites everything while the >> is used to append. The latter will add the contents specified to the end of the file.\n",
    "\n",
    "For example:\n",
    "\n",
    "echo “this is the second line” >> file.txt\n",
    "\n",
    "echo “this is the third line” >> file.txt"
   ]
  },
  {
   "cell_type": "code",
   "execution_count": null,
   "id": "eda32f5a",
   "metadata": {},
   "outputs": [],
   "source": []
  }
 ],
 "metadata": {
  "kernelspec": {
   "display_name": "Python 3",
   "language": "python",
   "name": "python3"
  },
  "language_info": {
   "codemirror_mode": {
    "name": "ipython",
    "version": 3
   },
   "file_extension": ".py",
   "mimetype": "text/x-python",
   "name": "python",
   "nbconvert_exporter": "python",
   "pygments_lexer": "ipython3",
   "version": "3.8.8"
  }
 },
 "nbformat": 4,
 "nbformat_minor": 5
}

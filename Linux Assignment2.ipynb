{
 "cells": [
  {
   "cell_type": "markdown",
   "id": "61706674",
   "metadata": {},
   "source": [
    "# 1.What is tar command?  Why is it used?"
   ]
  },
  {
   "cell_type": "markdown",
   "id": "ec77668f",
   "metadata": {},
   "source": [
    "The tar command stands for tape achieve, which is the most commonly used tape drive backup command used by the Linux/Unix system. It allows for you to quickly access a collection of files and placed them into a highly compressed archive file commonly called tarball, or tar, gzip, and bzip in Linux"
   ]
  },
  {
   "cell_type": "markdown",
   "id": "a4d3ae55",
   "metadata": {},
   "source": [
    "tar [options] [archive-file] [file or directory to be archived]"
   ]
  },
  {
   "cell_type": "markdown",
   "id": "4d5e4ef6",
   "metadata": {},
   "source": [
    "# 2.Explain Regular Expressions and Grep"
   ]
  },
  {
   "cell_type": "markdown",
   "id": "5c319dd5",
   "metadata": {},
   "source": [
    "grep is one of the most useful and powerful commands in Linux for text processing. grep searches one or more input files for lines that match a regular expression and writes each matching line to standard output.\n",
    "A regular expression or regex is a pattern that matches a set of strings. A pattern consists of operators, constructs literal characters, and meta-characters, which have special meaning. GNU grep supports three regular expression syntaxes, Basic, Extended, and Perl-compatible.\n",
    "In its simplest form, when no regular expression type is given, grep interpret search patterns as basic regular expressions. To interpret the pattern as an extended regular expression, use the -E ( or --extended-regexp) option.\n",
    "\n"
   ]
  },
  {
   "cell_type": "markdown",
   "id": "2439e06f",
   "metadata": {},
   "source": [
    "# 3.What is the minimum number of disk partitions required to install Linux?"
   ]
  },
  {
   "cell_type": "markdown",
   "id": "b279cf46",
   "metadata": {},
   "source": [
    "We need an absolute minimum of one partition to install Linux."
   ]
  },
  {
   "cell_type": "markdown",
   "id": "19ec1f94",
   "metadata": {},
   "source": [
    "# 4.How to copy a file in Linux?"
   ]
  },
  {
   "cell_type": "markdown",
   "id": "62ee9f05",
   "metadata": {},
   "source": [
    "The Linux cp command copies a file or a folder on a computer. You can move one or more files and folders at the same time. The syntax for cp is the name of the file to be copied followed by the place the copy should be located.\n",
    "\n",
    "Copying files and folders is a task almost everyone who works with Linux performs on a daily basis. But, using the command line, it’s not as simple as dragging a file into another window on your computer. Rather, you need to use the cp command to copy files and folders.\n",
    "\n",
    "\n",
    "Syntax: cp [source] [destination]"
   ]
  },
  {
   "cell_type": "markdown",
   "id": "997b3252",
   "metadata": {},
   "source": [
    "# 5.How to terminate a running process in Linux?"
   ]
  },
  {
   "cell_type": "markdown",
   "id": "ceee11c2",
   "metadata": {},
   "source": [
    "Kill a Linux Program by Clicking the \"X\"\n",
    "\n",
    "Force Kill Linux Application Processes With \"xkill\"\n",
    "\n",
    "Force Quit Linux Apps With the \"kill\" Command\n",
    "\n",
    "Use \"pgrep\" and \"pkill\" Linux Force Kill Commands\n",
    "\n",
    "Force Kill Linux Instances With \"killall\"\n",
    "\n",
    "\n"
   ]
  },
  {
   "cell_type": "markdown",
   "id": "c4e270dc",
   "metadata": {},
   "source": [
    "# 6.How to rename a file in Linux?"
   ]
  },
  {
   "cell_type": "markdown",
   "id": "d8d066d1",
   "metadata": {},
   "source": [
    "Using the mv command with its default syntax allows you to rename a single file:\n",
    "    \n",
    "mv [options] [current file name] [new file name]\n",
    "\n"
   ]
  },
  {
   "cell_type": "markdown",
   "id": "28484931",
   "metadata": {},
   "source": [
    "# 7.How to write the output of a command to a file?"
   ]
  },
  {
   "cell_type": "markdown",
   "id": "db4d2529",
   "metadata": {},
   "source": [
    "A command can receive input from a file and send output to a file.\n",
    "\n",
    "command > filename\n",
    "\n",
    "Appending the output or data to the file\n",
    "\n",
    "command >> filename"
   ]
  },
  {
   "cell_type": "markdown",
   "id": "37a7b9b8",
   "metadata": {},
   "source": [
    "# 8.How to see the list of mounted devices on Linux?"
   ]
  },
  {
   "cell_type": "markdown",
   "id": "e6951321",
   "metadata": {},
   "source": [
    "We can use mount command to list mount points. When you run mount command without any options it will list mount points.\n",
    "\n",
    "We can use df command to list mount points.\n",
    "\n",
    "Findmnt is a powerful tool to find mounted filesystems. This command comes with lots of options to list mount filesystems."
   ]
  },
  {
   "cell_type": "markdown",
   "id": "d01c61c3",
   "metadata": {},
   "source": [
    "# 9.How to find where a file is stored in Linux?"
   ]
  },
  {
   "cell_type": "markdown",
   "id": "ec785144",
   "metadata": {},
   "source": [
    "To find and report toms-first-birthday.mp4 file in your HONE directory, enter:\n",
    "\n",
    "$ find $HOME -name \"toms-first-birthday.mp4\" -print"
   ]
  },
  {
   "cell_type": "markdown",
   "id": "ad685d32",
   "metadata": {},
   "source": [
    "# 10.How to find the difference between two configuration files?"
   ]
  },
  {
   "cell_type": "markdown",
   "id": "54586692",
   "metadata": {},
   "source": [
    "If you want to compare two files and decipher the difference, a command called “diff” is used. This guide is focused on providing you the usage of the “diff” command with various options to get the difference between two files.\n",
    "\n",
    "So, how does the “diff” command actually function? The “diff” command compares the two files and outputs a list of differences between both files. More precisely, it yields a list of modifications that require to be made in the first file to match the second file. The “diff” command is also used by the programmers to get the difference between two source code files to develop patches.\n",
    "\n",
    "Before diving into the examples, note that the order of the files is very important. Because the “diff” command gives output based on the order of the files.\n",
    "\n",
    "The syntax of the “diff” command is mentioned below:\n",
    "\n",
    "$diff [options] [file1] [file2]\n"
   ]
  },
  {
   "cell_type": "code",
   "execution_count": null,
   "id": "7b43eaed",
   "metadata": {},
   "outputs": [],
   "source": []
  }
 ],
 "metadata": {
  "kernelspec": {
   "display_name": "Python 3",
   "language": "python",
   "name": "python3"
  },
  "language_info": {
   "codemirror_mode": {
    "name": "ipython",
    "version": 3
   },
   "file_extension": ".py",
   "mimetype": "text/x-python",
   "name": "python",
   "nbconvert_exporter": "python",
   "pygments_lexer": "ipython3",
   "version": "3.8.8"
  }
 },
 "nbformat": 4,
 "nbformat_minor": 5
}

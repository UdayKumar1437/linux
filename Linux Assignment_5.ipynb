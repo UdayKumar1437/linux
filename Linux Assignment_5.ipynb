{
 "cells": [
  {
   "cell_type": "markdown",
   "id": "b34afe97",
   "metadata": {},
   "source": [
    "# 1.How to jump to a particular line in a file using vim editor?"
   ]
  },
  {
   "cell_type": "markdown",
   "id": "3951fe98",
   "metadata": {},
   "source": [
    "$ vi +line number filename\n",
    "\n",
    "for example: vi +5 sample.txt"
   ]
  },
  {
   "cell_type": "markdown",
   "id": "c6324e6d",
   "metadata": {},
   "source": [
    "# 2.How do you sort the entries in a text file in ascending order?"
   ]
  },
  {
   "cell_type": "markdown",
   "id": "40bf5149",
   "metadata": {},
   "source": [
    "This can be done using the sort command.\n",
    "\n",
    "for example: $ sort sample.txt"
   ]
  },
  {
   "cell_type": "markdown",
   "id": "378d5cf6",
   "metadata": {},
   "source": [
    "# 3.What is the export command used for?"
   ]
  },
  {
   "cell_type": "markdown",
   "id": "d131a74d",
   "metadata": {},
   "source": [
    "The export command is a built-in utility of Linux Bash shell. It is used to ensure the environment variables and functions to be passed to child processes. It does not affect the existing environment variable.\n",
    "\n",
    "Environment variables are set when we open a new shell session. At any time, if we change any variable value, the shell has no way to select that change. The export command allows us to update the current session about the changes that have been made to the exported variable. We do not need to wait to start a new shell session."
   ]
  },
  {
   "cell_type": "markdown",
   "id": "571e0d80",
   "metadata": {},
   "source": [
    "# 4.How do you check if a particular service is running?"
   ]
  },
  {
   "cell_type": "markdown",
   "id": "860df5d5",
   "metadata": {},
   "source": [
    "If the service has an initialization (init) script installed, you can use the service command to start, stop, and check the status of the service. This command references a service by using its init script, which is stored in the /etc/init.d directory for Debian®-based distributions and the etc/rc.d/init.d directory for Red Hat®-based distributions."
   ]
  },
  {
   "cell_type": "markdown",
   "id": "8c7e3302",
   "metadata": {},
   "source": [
    "# 5.How do you check the status of all the services?"
   ]
  },
  {
   "cell_type": "markdown",
   "id": "3b66348b",
   "metadata": {},
   "source": [
    "In order to list all services, meaning active and inactive, you have to use the “systemctl list-units” command followed by the “–all” option.\n",
    "\n",
    "Similarly, you can limit the results to services only by using the type filter.\n",
    "\n",
    "$ systemctl list-units --type=service --all\n",
    "\n",
    "another method:\n",
    "\n",
    "The easiest way to list services on Linux, when you are on a SystemV init system, is to use the “service” command followed by “–status-all” option. This way, you will be presented with a complete list of services on your system.\n",
    "\n",
    "$ service --status-all"
   ]
  },
  {
   "cell_type": "markdown",
   "id": "3328f50d",
   "metadata": {},
   "source": [
    "# 6.How do you start and stop a service?"
   ]
  },
  {
   "cell_type": "markdown",
   "id": "0062cfed",
   "metadata": {},
   "source": [
    "Systemctl is a controller or utility of Systemd(is an init system with compost for a set of programs executed in the background), with auxiliary in manage services, these commands are executed in mode root if you aren’t mode root the system, requesting the password of root.\n",
    "\n",
    "1. List all services:\n",
    "\n",
    "systemctl list-unit-files --type service -all\n",
    "\n",
    "2. Command Start:\n",
    "Syntax:\n",
    "\n",
    "sudo systemctl start service.service\n",
    "\n",
    "The command start serves for starting (activate) one or more units specified on the command line.\n",
    "\n",
    "Example:\n",
    "\n",
    "sudo systemctl start mariadb\n",
    "\n",
    "3. Command Stop:\n",
    "Syntax:\n",
    "\n",
    "sudo systemctl stop service.service\n",
    "\n",
    "The command stop serves for stopping the service or (deactivate) one or more units specified on the command line.\n",
    "\n",
    "Example:\n",
    "\n",
    "sudo systemctl stop mariadb"
   ]
  },
  {
   "cell_type": "markdown",
   "id": "ff155b0f",
   "metadata": {},
   "source": [
    "# 7.Explain the free command."
   ]
  },
  {
   "cell_type": "markdown",
   "id": "b642e6ee",
   "metadata": {},
   "source": [
    "The free command gives information about used and unused memory usage and swap memory of a system. By default, it displays memory in kb (kilobytes).\n",
    "\n",
    "Memory mainly consists of RAM (random access memory) and swap memory.\n",
    "\n",
    "Swap memory is a part of hard disk drive that acts like a virtual RAM.\n",
    "\n",
    "Syntax: free"
   ]
  },
  {
   "cell_type": "markdown",
   "id": "bba98f7e",
   "metadata": {},
   "source": [
    "# 8.Explain chmod command"
   ]
  },
  {
   "cell_type": "markdown",
   "id": "cac2680a",
   "metadata": {},
   "source": [
    "Linux chmod command is used to change the access permissions of files and directories. It stands for change mode. It can not change the permission of symbolic links. Even, it ignores the symbolic links come across recursive directory traversal.\n",
    "\n",
    "In the Linux file system, each file is associated with a particular owner and have permission access for different users. The user classes may be:\n",
    "\n",
    "owner\n",
    "\n",
    "group member\n",
    "\n",
    "Others (Everybody else)\n",
    "\n",
    "The file permissions in Linux are the following three types:\n",
    "\n",
    "read (r)\n",
    "\n",
    "write (w)\n",
    "\n",
    "execute (x)\n",
    "\n",
    "Let's see how to change the file permission using the chmod command.\n",
    "\n",
    "Syntax:\n",
    "\n",
    "The basic syntax of chmod command is as follows:\n",
    "\n",
    "chmod options permissions file name"
   ]
  },
  {
   "cell_type": "markdown",
   "id": "4a3f2abb",
   "metadata": {},
   "source": [
    "# 9.Explain grep command"
   ]
  },
  {
   "cell_type": "markdown",
   "id": "18a489d1",
   "metadata": {},
   "source": [
    "Grep stands for Global Regular Expression Print. The grep command is used to search for a text in a file by pattern matching based on regular expression.\n",
    "\n",
    "Syntax: grep [options] pattern [files]\n",
    "\n",
    "Example:\n",
    "\n",
    "$ grep -c \"linux\" interview.txt\n",
    "\n",
    "This command will print the count of the word “linux” in the “interview.txt” file."
   ]
  },
  {
   "cell_type": "markdown",
   "id": "c69e32ba",
   "metadata": {},
   "source": [
    "# 10.What is the use of nano editor?"
   ]
  },
  {
   "cell_type": "markdown",
   "id": "61fa5f12",
   "metadata": {},
   "source": [
    "GNU nano is a simple terminal-based text editor. Though not as powerful as Emacs or Vim, it is easy to learn and use. Nano is ideal for making small changes to existing configuration files or for writing short plain text files. It was originally created as a free replacement for the non-free Pico editor. Pico is the terminal-based editor used in the Pine email suite from the University of Washington.\n",
    "\n",
    "Nano can be used in a terminal window or at the system console."
   ]
  },
  {
   "cell_type": "code",
   "execution_count": null,
   "id": "a976def4",
   "metadata": {},
   "outputs": [],
   "source": []
  }
 ],
 "metadata": {
  "kernelspec": {
   "display_name": "Python 3",
   "language": "python",
   "name": "python3"
  },
  "language_info": {
   "codemirror_mode": {
    "name": "ipython",
    "version": 3
   },
   "file_extension": ".py",
   "mimetype": "text/x-python",
   "name": "python",
   "nbconvert_exporter": "python",
   "pygments_lexer": "ipython3",
   "version": "3.8.8"
  }
 },
 "nbformat": 4,
 "nbformat_minor": 5
}

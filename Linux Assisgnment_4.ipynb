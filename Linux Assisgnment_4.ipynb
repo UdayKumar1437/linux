{
 "cells": [
  {
   "cell_type": "markdown",
   "id": "21c0b4eb",
   "metadata": {},
   "source": [
    "# 1.Write a bash script to delete all the files in the current directory that contains the word “ineuron”."
   ]
  },
  {
   "cell_type": "markdown",
   "id": "8afda516",
   "metadata": {},
   "source": [
    "for i in *ineuron*; do rm $i;done"
   ]
  },
  {
   "cell_type": "markdown",
   "id": "69f10749",
   "metadata": {},
   "source": [
    "# 2.How would you create a text file without opening it?"
   ]
  },
  {
   "cell_type": "markdown",
   "id": "f6812e81",
   "metadata": {},
   "source": [
    "Touch command can be used to create a text file without opening it.\n",
    "\n",
    "Syntax : touch filename\n",
    "    \n",
    "Suppose we want to create a file named sample.txt then the command will be\n",
    "\n",
    "touch sample.txt"
   ]
  },
  {
   "cell_type": "markdown",
   "id": "62d29b1b",
   "metadata": {},
   "source": [
    "# 3.How would you delete a directory in Linux?"
   ]
  },
  {
   "cell_type": "markdown",
   "id": "7ab7ab61",
   "metadata": {},
   "source": [
    "There are two commands that can be used to delete a directory in Linux.\n",
    "\n",
    "rmdir\n",
    "\n",
    "$ rmdir directory name\n",
    "\n",
    "rm -rf \n",
    "\n",
    "$ rm -rf directory name"
   ]
  },
  {
   "cell_type": "markdown",
   "id": "f148ef87",
   "metadata": {},
   "source": [
    "# 4.How would you schedule a task in Linux?"
   ]
  },
  {
   "cell_type": "markdown",
   "id": "ac2b1cda",
   "metadata": {},
   "source": [
    "Two of the most popular scheduling daemons in Linux are cron and atd. Daemons are special programs that run in the background waiting for some events or conditions to occur, for them to be triggered.\n",
    "\n",
    "In Linux, the cron daemon runs tasks in the background at specified times. To schedule a task using cron, you need to edit a special file called the crontab file in a text editor and add your task in it in a particular format. Then cron will run the task for you at the time you specify in the crontab file. You can specify any intervals of time, from seconds to weeks and even years.\n",
    "\n",
    "You can use the at command to schedule future tasks in a Linux system. Similar to the crontab file that works with the cron daemon, the at command works in conjunction with the atd daemon. The atd daemon also includes a few more command-line tools such as atq and atrm."
   ]
  },
  {
   "cell_type": "markdown",
   "id": "932b5c92",
   "metadata": {},
   "source": [
    "# 5.Suppose you try to delete a file using the rm command and the deletion fails. What could be the possible reason?"
   ]
  },
  {
   "cell_type": "markdown",
   "id": "4db661a1",
   "metadata": {},
   "source": [
    "The path specified to the file or the file name mentioned might be wrong\n",
    "\n",
    "The user trying to delete the file might not have permissions to delete the file."
   ]
  },
  {
   "cell_type": "markdown",
   "id": "3be73f07",
   "metadata": {},
   "source": [
    "# 6.How do you look at the contents of a file?"
   ]
  },
  {
   "cell_type": "markdown",
   "id": "db50bcc0",
   "metadata": {},
   "source": [
    "By using cat command we can look at the contents of a file\n",
    "\n",
    "syntax: cat filename"
   ]
  },
  {
   "cell_type": "markdown",
   "id": "cc33cbf4",
   "metadata": {},
   "source": [
    "# 7.How to identify which shell you are using?"
   ]
  },
  {
   "cell_type": "markdown",
   "id": "a64ffe40",
   "metadata": {},
   "source": [
    "echo \"$SHELL\" tells us which shell we are currently using"
   ]
  },
  {
   "cell_type": "markdown",
   "id": "a0be5a92",
   "metadata": {},
   "source": [
    "# 8.How can you login to another system in your network from your system?"
   ]
  },
  {
   "cell_type": "markdown",
   "id": "769bd95c",
   "metadata": {},
   "source": [
    "All modern Unix-like systems (Linux, OS X, BSDs, and others) include a command-line ssh client. To login to your computer from a Unix-like machine, go to a command-line and type:\n",
    "\n",
    "ssh username @ computer name or IP address\n",
    "\n",
    "For example:\n",
    "\n",
    "\n",
    "ssh uday@laptop"
   ]
  },
  {
   "cell_type": "markdown",
   "id": "4dd98e40",
   "metadata": {},
   "source": [
    "# 9.How would you open a file in read-only mode using the vim editor?"
   ]
  },
  {
   "cell_type": "markdown",
   "id": "d2b4d05e",
   "metadata": {},
   "source": [
    "$ vim -R filename"
   ]
  },
  {
   "cell_type": "code",
   "execution_count": null,
   "id": "354f42ce",
   "metadata": {},
   "outputs": [],
   "source": []
  }
 ],
 "metadata": {
  "kernelspec": {
   "display_name": "Python 3",
   "language": "python",
   "name": "python3"
  },
  "language_info": {
   "codemirror_mode": {
    "name": "ipython",
    "version": 3
   },
   "file_extension": ".py",
   "mimetype": "text/x-python",
   "name": "python",
   "nbconvert_exporter": "python",
   "pygments_lexer": "ipython3",
   "version": "3.8.8"
  }
 },
 "nbformat": 4,
 "nbformat_minor": 5
}
